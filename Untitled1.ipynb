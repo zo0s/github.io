{
  "nbformat": 4,
  "nbformat_minor": 0,
  "metadata": {
    "colab": {
      "name": "Untitled1.ipynb",
      "provenance": [],
      "collapsed_sections": [],
      "authorship_tag": "ABX9TyNGX0F/MyHgLQ4WLaNwaDBb",
      "include_colab_link": true
    },
    "kernelspec": {
      "name": "python3",
      "display_name": "Python 3"
    }
  },
  "cells": [
    {
      "cell_type": "markdown",
      "metadata": {
        "id": "view-in-github",
        "colab_type": "text"
      },
      "source": [
        "<a href=\"https://colab.research.google.com/github/zo0s/github.io/blob/main/Untitled1.ipynb\" target=\"_parent\"><img src=\"https://colab.research.google.com/assets/colab-badge.svg\" alt=\"Open In Colab\"/></a>"
      ]
    },
    {
      "cell_type": "code",
      "metadata": {
        "id": "oOrynON_SFUd",
        "outputId": "c27d2116-dee1-463e-c5f6-bae20a0c1718",
        "colab": {
          "base_uri": "https://localhost:8080/"
        }
      },
      "source": [
        "a=3\n",
        "b=4\n",
        "print(a+b)"
      ],
      "execution_count": 1,
      "outputs": [
        {
          "output_type": "stream",
          "text": [
            "7\n"
          ],
          "name": "stdout"
        }
      ]
    },
    {
      "cell_type": "code",
      "metadata": {
        "id": "fZq8fM3JShjz",
        "outputId": "ec908b24-4241-40f1-e1a2-6850c588097a",
        "colab": {
          "base_uri": "https://localhost:8080/"
        }
      },
      "source": [
        "a =3 \n",
        "b = 2\n",
        "print(a+b)\n",
        "print(a-b)\n",
        "print(a*b)\n",
        "print(a/b)\n",
        "print(a**b)\n",
        "print(a//b)\n",
        "print(a%b)\n",
        "print(a**0.5)"
      ],
      "execution_count": 2,
      "outputs": [
        {
          "output_type": "stream",
          "text": [
            "5\n",
            "1\n",
            "6\n",
            "1.5\n",
            "9\n",
            "1\n",
            "1\n",
            "1.7320508075688772\n"
          ],
          "name": "stdout"
        }
      ]
    },
    {
      "cell_type": "code",
      "metadata": {
        "id": "E080hpahSgX6"
      },
      "source": [
        "a = [1,2,3,4,5,6,7,8]\n",
        "a =(1,2,3,4,5,6,7,8)\n"
      ],
      "execution_count": 3,
      "outputs": []
    },
    {
      "cell_type": "markdown",
      "metadata": {
        "id": "UIooMci0TBR4"
      },
      "source": [
        "a = [ ] 는 리스트 \n",
        "a = ( ) 는 튜플 \n",
        "\n",
        "리스트와 튜플의 차이점\n",
        "리스트는 요소를 수정 삭제가 가능하지만\n",
        "튜플은 수정, 삭제 되지 않는다."
      ]
    },
    {
      "cell_type": "code",
      "metadata": {
        "id": "ecP8mTIqUCFz"
      },
      "source": [
        "a = {'name':'GM', 'phone':'010-9****-****','birthday':'0227', \n",
        "     'sex':'male', 'family':'mom,dad,sister,me'}"
      ],
      "execution_count": null,
      "outputs": []
    },
    {
      "cell_type": "code",
      "metadata": {
        "id": "5g-Q3_jxS-8d",
        "outputId": "83b3ebae-f189-4496-ce20-0f1e04f159e5",
        "colab": {
          "base_uri": "https://localhost:8080/"
        }
      },
      "source": [
        "#3.4.3 딕셔너리\n",
        "\n",
        "a = {'name':'GM', 'phone':'010-9****-****','birthday':'0227', \n",
        "     'sex':'male', 'family':'mom,dad,sister,me'}\n",
        "\n",
        "print(a['name'])\n",
        "a['name'] = 'Gyoung min'\n",
        "print(a['name'])\n",
        "a['mind'] = 'positive'\n",
        "print(a)"
      ],
      "execution_count": 4,
      "outputs": [
        {
          "output_type": "stream",
          "text": [
            "GM\n",
            "Gyoung min\n",
            "{'name': 'Gyoung min', 'phone': '010-9****-****', 'birthday': '0227', 'sex': 'male', 'family': 'mom,dad,sister,me', 'mind': 'positive'}\n"
          ],
          "name": "stdout"
        }
      ]
    },
    {
      "cell_type": "code",
      "metadata": {
        "id": "p4R8430qUjE1",
        "outputId": "a0cb522e-36da-4063-8ab9-91a766131710",
        "colab": {
          "base_uri": "https://localhost:8080/"
        }
      },
      "source": [
        "#3.5 조건문\n",
        "hungry = True\n",
        "if hungry:\n",
        "  print(\"배가 고파요\")\n",
        "  "
      ],
      "execution_count": 5,
      "outputs": [
        {
          "output_type": "stream",
          "text": [
            "배가 고파요\n"
          ],
          "name": "stdout"
        }
      ]
    },
    {
      "cell_type": "code",
      "metadata": {
        "id": "0wnjuo86XKyR",
        "outputId": "66a6232f-4f20-4039-ed62-5516bd82e56e",
        "colab": {
          "base_uri": "https://localhost:8080/"
        }
      },
      "source": [
        "#3.5 조건문2\n",
        "hungry = True\n",
        "if hungry:\n",
        "  print(\"배가 고파요\")\n",
        "else:\n",
        "  print(\"배가 고프지 않아요\")\n",
        "  print(\"저는 행복합니다.\")"
      ],
      "execution_count": 6,
      "outputs": [
        {
          "output_type": "stream",
          "text": [
            "배가 고파요\n"
          ],
          "name": "stdout"
        }
      ]
    },
    {
      "cell_type": "markdown",
      "metadata": {
        "id": "xv1tMNQfXbno"
      },
      "source": [
        "if 문 주의할점\n",
        "1) if 조건을 쓰고 그 뒤에는 반드시 콜론(':') 을 붙여야 한다.\n",
        "2) 콜론이 나온 다음줄부터 새로운 블록의 시작이다\n"
      ]
    },
    {
      "cell_type": "code",
      "metadata": {
        "id": "PDocRwXrXaAW",
        "outputId": "1da6d5dc-2038-4fef-94e8-2dd06e74533d",
        "colab": {
          "base_uri": "https://localhost:8080/"
        }
      },
      "source": [
        "#3.6 반복문\n",
        "for i in range(10):\n",
        "  print(\"Hi I'm Baram.\")"
      ],
      "execution_count": 7,
      "outputs": [
        {
          "output_type": "stream",
          "text": [
            "Hi I'm Baram.\n",
            "Hi I'm Baram.\n",
            "Hi I'm Baram.\n",
            "Hi I'm Baram.\n",
            "Hi I'm Baram.\n",
            "Hi I'm Baram.\n",
            "Hi I'm Baram.\n",
            "Hi I'm Baram.\n",
            "Hi I'm Baram.\n",
            "Hi I'm Baram.\n"
          ],
          "name": "stdout"
        }
      ]
    },
    {
      "cell_type": "markdown",
      "metadata": {
        "id": "gyoGFrKlYmzw"
      },
      "source": [
        "10번 반복하라는 코드\n",
        "일정횟수를 반복할때, range()함수를 사용하면 된다."
      ]
    },
    {
      "cell_type": "code",
      "metadata": {
        "id": "PDKq4BAEYBc1",
        "outputId": "ac3288a5-86a3-4a99-b32b-63ef1734b9a3",
        "colab": {
          "base_uri": "https://localhost:8080/"
        }
      },
      "source": [
        "#3.6 반복문2\n",
        "market = ['apple', 'pear', 'orange', 'grape']\n",
        "for food in market:\n",
        "  print(food)"
      ],
      "execution_count": 9,
      "outputs": [
        {
          "output_type": "stream",
          "text": [
            "apple\n",
            "pear\n",
            "orange\n",
            "grape\n"
          ],
          "name": "stdout"
        }
      ]
    },
    {
      "cell_type": "code",
      "metadata": {
        "id": "lPVseESPYWiE",
        "outputId": "3776d3c3-b825-4891-d4c4-b49071e1e250",
        "colab": {
          "base_uri": "https://localhost:8080/"
        }
      },
      "source": [
        "#3.6 반복문3\n",
        "market = ['apple', 'pear', 'orange', 'grape']\n",
        "for i in market:\n",
        "  print(i)"
      ],
      "execution_count": 10,
      "outputs": [
        {
          "output_type": "stream",
          "text": [
            "apple\n",
            "pear\n",
            "orange\n",
            "grape\n"
          ],
          "name": "stdout"
        }
      ]
    },
    {
      "cell_type": "markdown",
      "metadata": {
        "id": "KyT1c6w7YzWW"
      },
      "source": [
        "'market에 있는 food를 프린트해라'"
      ]
    },
    {
      "cell_type": "markdown",
      "metadata": {
        "id": "5dMG4PzhZqz5"
      },
      "source": [
        "반복문\n",
        " 일정횟수로 명령을 실행하거나, 리스트 , 튜플, 딕셔너리와 같은 쟈료구조를 사용해서 요소의 수만큼 어떤 처리를 할때 유용하다.\n"
      ]
    },
    {
      "cell_type": "code",
      "metadata": {
        "id": "XXqlshn6ZfqX"
      },
      "source": [
        "def 함수의 이름(인자, 인자, 인자):\n",
        "  함수가 실행되는 문장들\n",
        "  함수가 실행되는 문장들\n",
        "  함수가 실행되는 문장들"
      ],
      "execution_count": null,
      "outputs": []
    },
    {
      "cell_type": "code",
      "metadata": {
        "id": "Gruro-55ZdCy",
        "outputId": "96276ee9-1181-493d-993e-a9d54b69ed0d",
        "colab": {
          "base_uri": "https://localhost:8080/"
        }
      },
      "source": [
        "#3.7 함수1\n",
        "def hello():\n",
        "  name = input(\"What's your name? :\")\n",
        "  print(\"Nice to meet you,\" + name+\".\")\n",
        "hello()"
      ],
      "execution_count": 13,
      "outputs": [
        {
          "output_type": "stream",
          "text": [
            "What's your name? :GM\n",
            "Nice to meet you,GM.\n"
          ],
          "name": "stdout"
        }
      ]
    },
    {
      "cell_type": "code",
      "metadata": {
        "id": "hwWHNNQkad7h",
        "outputId": "27b8f63a-38ad-4a2e-84a9-7e111b9e2b69",
        "colab": {
          "base_uri": "https://localhost:8080/"
        }
      },
      "source": [
        "#3.7 함수2\n",
        "def hello(name):\n",
        "  print(\"Nice to meet you,\" + name + \".\")\n",
        "hello('Baram')"
      ],
      "execution_count": 14,
      "outputs": [
        {
          "output_type": "stream",
          "text": [
            "Nice to meet you,Baram.\n"
          ],
          "name": "stdout"
        }
      ]
    },
    {
      "cell_type": "code",
      "metadata": {
        "id": "gchvOTKCarLE"
      },
      "source": [
        "benz = Car(50)\n",
        "bmw = Car(60)"
      ],
      "execution_count": null,
      "outputs": []
    },
    {
      "cell_type": "code",
      "metadata": {
        "id": "j6NyjPrqdIZQ"
      },
      "source": [
        "객체이름 = 클래스 이름(인수들)"
      ],
      "execution_count": null,
      "outputs": []
    },
    {
      "cell_type": "markdown",
      "metadata": {
        "id": "wdkCAiqXbDBS"
      },
      "source": [
        "함수 = '기능'모음\n",
        "클래스 = '정보 + 기능' 모음\n",
        "\n",
        "절차지향 프로그램 = 클래스를 사용해야 한다.\n",
        "(함수나 변수의 이름을 사용할때 에러발생을 방지)\n",
        "\n",
        "특정한 명령어들의 집합을 함수로 만들어 사용했다면, 클래스에서는 명령어들의 기능 집합과 변수들까지 모아 둔 프로젝트 별 패키지를 구분한다.\n",
        "\n",
        "클래스에 있는 변수를 필드(field)\n",
        "함수를 메소드(method)\n"
      ]
    },
    {
      "cell_type": "code",
      "metadata": {
        "id": "qFG1RQQqdMXm"
      },
      "source": [
        "#3.8.1 클래스 생성\n",
        "자동차클래스\n",
        "    변수 : speed, fuel\n",
        "    기능 : show(), speed_up()"
      ],
      "execution_count": null,
      "outputs": []
    },
    {
      "cell_type": "code",
      "metadata": {
        "id": "17x_vHLKdjPO"
      },
      "source": [
        "class 클래스 이름:\n",
        "    변수1 ...\n",
        "    변수2 ...\n",
        "    def __init__(self, 인수1, 인수2, ...):#생성자\n",
        "        ...\n",
        "    def __init__(self, 인수1, 인수2, ...):\n",
        "        ...\n",
        "    def __init__(self, 인수1, 인수2, ...):\n",
        "        ..."
      ],
      "execution_count": null,
      "outputs": []
    },
    {
      "cell_type": "markdown",
      "metadata": {
        "id": "nXEjQCkEd698"
      },
      "source": [
        "클래스는 다음과 같이 만들 수 있다."
      ]
    },
    {
      "cell_type": "code",
      "metadata": {
        "id": "ot2GyMxweUXM"
      },
      "source": [
        "#3.8.2 init__()\n",
        "class Car:\n",
        "    def __init__(self, fuel):\n",
        "      self.fuel = fuel\n",
        "      self.speed = 0"
      ],
      "execution_count": null,
      "outputs": []
    },
    {
      "cell_type": "markdown",
      "metadata": {
        "id": "crm9L6PnfIfW"
      },
      "source": [
        "클래스 이용시, 객체를 만들때 초기 설정값을 전달하는 함수\n"
      ]
    },
    {
      "cell_type": "code",
      "metadata": {
        "id": "jY3WZsfke_mr"
      },
      "source": [
        "#3.8.3 self\n",
        "benz = car(5)"
      ],
      "execution_count": null,
      "outputs": []
    },
    {
      "cell_type": "markdown",
      "metadata": {
        "id": "eYjWfQOhgv9E"
      },
      "source": [
        "self는 클래스로 만들어진 객체 자신을 가리킵니다.\n",
        "클래스의 모든 함수의 첫번째 인자로 self넣는다.\n",
        "객체 내부를 읽고 쓰는 경우에도 self를 사용한다.\n",
        "\n",
        "==\n",
        "self는 객체자신,\n",
        "첫번째인자,\n",
        "읽고쓰기 가능 ."
      ]
    },
    {
      "cell_type": "code",
      "metadata": {
        "id": "cVWTaIMSglL6"
      },
      "source": [
        "class Car:\n",
        "  def __init__(self,fuel):#1.생성자\n",
        "      self.fuel = fuel #2.self.fuel과 fuel은 다음\n",
        "      self.speed = 0 #3 self.speed에 0을 저장"
      ],
      "execution_count": null,
      "outputs": []
    },
    {
      "cell_type": "markdown",
      "metadata": {
        "id": "L4FFSa7tl3bL"
      },
      "source": [
        "1.def __ into__(self,fuel): \n",
        "\n",
        "클래스 사용시 자동으로 실행되는 함수 = 생성자\n",
        "  __ into __()함수실행시 self,fuel 가 필요\n",
        "  \n",
        "  self는 __ into __()함수가 속한 객체 자신\n",
        "  \n",
        "  fuel는 외부에서 들어오는 값\n",
        "ex) Car(5) \n",
        "    () 안에 있는 5가 fuel 에 들어감"
      ]
    },
    {
      "cell_type": "markdown",
      "metadata": {
        "id": "SOZ1IJbKnFp5"
      },
      "source": [
        "`2.`self.fuel = fuel\n",
        "\n",
        "```\n",
        "self.fuel = fuel# 코드로 형식 지정됨 \n",
        "```\n",
        "  등호 왼쪽에는 값을 저장할 공간의 이름\n",
        "\n",
        "\n",
        "\n",
        "      오른쪽에는 들어갈 값\n",
        "\n",
        "따라서 self.fuel은 변수의 이름\n",
        "      fuel는 실제 값\n"
      ]
    },
    {
      "cell_type": "markdown",
      "metadata": {
        "id": "1ce1J_AfoueB"
      },
      "source": [
        "3.self.speed 의 self는 클래스를 이용해 만들 객체\n",
        "  그 안에 0을 저장하라는 뜻\n",
        "  '객체.변수' 정보를 읽거나 쓸수 있고\n",
        "  '객체.함수()' 객체에 속한 기능함수를 실행할수 있다."
      ]
    },
    {
      "cell_type": "code",
      "metadata": {
        "id": "QkLUzm_HpNPW"
      },
      "source": [
        "#3.8 클래스와 객체1\n",
        "\n",
        "class Car:\n",
        "  def __into__(self. fuel):\n",
        "      self.fuel = fuel\n",
        "      self.speed = 0\n",
        "      print('fuel = ',fuel)\n",
        "\n",
        "  def show(self):\n",
        "    print('speed =',self.speed, 'fuel = ', self.fuel)\n",
        "  \n",
        "  def speed_up(self):\n",
        "      self.fuel = self.fuel - 1\n",
        "      self.speed = self.speed + 1\n",
        "  "
      ],
      "execution_count": null,
      "outputs": []
    },
    {
      "cell_type": "code",
      "metadata": {
        "id": "JVu-qe7Hp04w"
      },
      "source": [
        "#3.8클래스와 객체2\n",
        "\n",
        "benz = Car(5)   #1 클래스로 객체 만들기\n",
        "benz.speed_up() #2 객체 benz 안의 speed_up() 함수 실행\n",
        "benz.show()     #3 객체 benz 안의 show()함수 실행\n"
      ],
      "execution_count": null,
      "outputs": []
    },
    {
      "cell_type": "code",
      "metadata": {
        "id": "GV1sEeTyqgQl"
      },
      "source": [
        "#3.8 클래스와 객체3\n",
        "\n",
        "benz = Car(5) #1 Car 클래스로 객체 benz 만들기\n",
        "bmw = Car(7) #2 car 클래스로 bmw 만들기\n",
        "\n",
        "benz.speed_up() #3 benz의 연료 1 소모 속도 1 상승\n",
        "benz.speed_up() #4 benz의 연료 1 소모 속도 1 상승\n",
        "benz.show() #5 benz의 연료와 속도를 출력\n",
        "\n",
        "bmw.speed_up() #6 bmw의 연료 1 소모 속도 1 상승\n",
        "bmw.show() #7 bmw 연료와 속도 출력\n"
      ],
      "execution_count": null,
      "outputs": []
    },
    {
      "cell_type": "code",
      "metadata": {
        "id": "l23UEjsdrfJF"
      },
      "source": [
        "import numpy as np\n"
      ],
      "execution_count": null,
      "outputs": []
    },
    {
      "cell_type": "code",
      "metadata": {
        "id": "emwlsa0_xP_W",
        "outputId": "ea30e0c5-4504-4e39-83bf-5a5c48430cda",
        "colab": {
          "base_uri": "https://localhost:8080/"
        }
      },
      "source": [
        "#3.9 배열\n",
        "\n",
        "import numpy as np\n",
        "a = np.array([1,2,3,4])\n",
        "print(a)\n",
        "print(type(a))\n"
      ],
      "execution_count": 20,
      "outputs": [
        {
          "output_type": "stream",
          "text": [
            "[1 2 3 4]\n",
            "<class 'numpy.ndarray'>\n"
          ],
          "name": "stdout"
        }
      ]
    },
    {
      "cell_type": "markdown",
      "metadata": {
        "id": "yOkMc9lWxeI7"
      },
      "source": [
        "np.array()는 '객체이름. 함수이름()'"
      ]
    },
    {
      "cell_type": "code",
      "metadata": {
        "id": "jMZdKymYxsVu"
      },
      "source": [
        "a = [1,2,3,4]\n",
        "b = [1,2,3,4]\n",
        "print(a+b)"
      ],
      "execution_count": null,
      "outputs": []
    },
    {
      "cell_type": "code",
      "metadata": {
        "id": "b9G4MaOtxc6H"
      },
      "source": [
        ""
      ],
      "execution_count": null,
      "outputs": []
    }
  ]
}